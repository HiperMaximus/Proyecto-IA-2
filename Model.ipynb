{
  "nbformat": 4,
  "nbformat_minor": 0,
  "metadata": {
    "accelerator": "GPU",
    "colab": {
      "name": "Model.ipynb",
      "provenance": []
    },
    "kernelspec": {
      "display_name": "Python 3",
      "name": "python3"
    }
  },
  "cells": [
    {
      "cell_type": "code",
      "metadata": {
        "colab": {
          "base_uri": "https://localhost:8080/"
        },
        "id": "JeMVBBKKXClL",
        "outputId": "64b140aa-b4ee-44b5-b059-6ce31926e104"
      },
      "source": [
        "#@title *code:* library imports\n",
        "import tensorflow.keras.layers as tfkl\n",
        "import tensorflow.keras as tfk\n",
        "%tensorflow_version 2.x\n",
        "#device_name = tf.test.gpu_device_name()\n",
        "#if device_name != '/device:GPU:0':\n",
        "#  raise SystemError('GPU device not found')\n",
        "#print('Found GPU at: {}'.format(device_name))\n",
        "from tensorflow.keras.models import Model\n",
        "from tensorflow.keras import layers, losses\n",
        "import keras.backend as K\n",
        "import numpy as np\n",
        "import matplotlib.pyplot as plt\n",
        "import pandas as pd\n",
        "import os\n",
        "import dill\n",
        "from google.colab import drive\n",
        "drive.mount('/content/drive')\n",
        "os.chdir('/content/drive/My Drive/course-IA2/Work-Max/Proyecto')\n",
        "print(os.getcwd())"
      ],
      "execution_count": null,
      "outputs": [
        {
          "output_type": "stream",
          "text": [
            "Mounted at /content/drive\n",
            "/content/drive/My Drive/course-IA2/Work-Max/Proyecto\n"
          ],
          "name": "stdout"
        }
      ]
    },
    {
      "cell_type": "code",
      "metadata": {
        "id": "LwLvdP-fW6VX"
      },
      "source": [
        "class lstm_bottleneck(tfkl.Layer):\n",
        "    def __init__(self, lstm_units, time_steps, **kwargs):\n",
        "        self.lstm_units = lstm_units\n",
        "        self.time_steps = time_steps\n",
        "        self.lstm_layer = tfkl.Bidirectional(tfkl.LSTM(lstm_units,return_sequences=False))\n",
        "        self.repeat_layer = tfkl.RepeatVector(time_steps)\n",
        "        super(lstm_bottleneck, self).__init__(**kwargs)\n",
        "    \n",
        "    def call(self, inputs):\n",
        "        # just call the two initialized layers\n",
        "        return self.repeat_layer(self.lstm_layer(inputs))\n",
        "    \n",
        "    def compute_mask(self, inputs, mask=None):\n",
        "        # return the input_mask directly\n",
        "        return mask\n"
      ],
      "execution_count": null,
      "outputs": []
    },
    {
      "cell_type": "code",
      "metadata": {
        "id": "TKo7S05J1f8x"
      },
      "source": [
        "latent_dim = 7\n",
        "\n",
        "class Autoencoder(Model):\n",
        "  def __init__(self, latent_dim):\n",
        "    super(Autoencoder, self).__init__()\n",
        "    self.latent_dim = latent_dim   \n",
        "    self.encoder = tfk.Sequential()\n",
        "    self.encoder.add(tfkl.Input(shape=(32, 3)))\n",
        "    self.encoder.add(tfk.layers.Masking(mask_value=0.))\n",
        "\n",
        "    self.encoder.add(tfkl.Bidirectional(tfkl.LSTM(units=32,return_sequences=True)))\n",
        "    self.encoder.add(lstm_bottleneck(lstm_units=self.latent_dim, time_steps=32))\n",
        "\n",
        "    self.decoder = tfk.Sequential()\n",
        "\n",
        "    self.decoder.add(tfkl.Bidirectional(tfkl.LSTM(units=32,return_sequences=True)))\n",
        "    self.decoder.add(tfkl.Bidirectional(tfkl.LSTM(units=3,return_sequences=True)))\n",
        "    self.decoder.add(tfk.layers.Dense(3,activation='elu'))\n",
        "    \n",
        "  def call(self, x):\n",
        "    encoded = self.encoder(x)\n",
        "    decoded = self.decoder(encoded)\n",
        "    return decoded\n",
        "  \n",
        "\n",
        "autoencoder = Autoencoder(latent_dim,)"
      ],
      "execution_count": null,
      "outputs": []
    },
    {
      "cell_type": "code",
      "metadata": {
        "colab": {
          "base_uri": "https://localhost:8080/"
        },
        "id": "QuFKnNVX51gI",
        "outputId": "244e75e6-74a0-4781-c10a-299cfec886c1"
      },
      "source": [
        "optimizer=tfk.optimizers.Adam(\n",
        "    learning_rate=0.0001, beta_1=0.9, beta_2=0.999, epsilon=1e-07, amsgrad=False,\n",
        "    name='Adam'\n",
        ")\n",
        "autoencoder.compile(optimizer=optimizer, loss=losses.MeanSquaredError(),metrics=['mse',tfk.metrics.RootMeanSquaredError()])\n",
        "autoencoder.build((None,32,3))\n",
        "print(autoencoder.summary())"
      ],
      "execution_count": null,
      "outputs": [
        {
          "output_type": "stream",
          "text": [
            "Model: \"autoencoder_2\"\n",
            "_________________________________________________________________\n",
            "Layer (type)                 Output Shape              Param #   \n",
            "=================================================================\n",
            "sequential_4 (Sequential)    (None, 32, 14)            13248     \n",
            "_________________________________________________________________\n",
            "sequential_5 (Sequential)    (None, 32, 3)             13685     \n",
            "=================================================================\n",
            "Total params: 26,933\n",
            "Trainable params: 26,933\n",
            "Non-trainable params: 0\n",
            "_________________________________________________________________\n",
            "None\n"
          ],
          "name": "stdout"
        }
      ]
    },
    {
      "cell_type": "code",
      "metadata": {
        "colab": {
          "base_uri": "https://localhost:8080/"
        },
        "id": "JeBYUlq08NVU",
        "outputId": "f68bb335-ffce-4b42-c5d6-ae02da718cc3"
      },
      "source": [
        "autoencoder.encoder.summary()\n",
        "autoencoder.decoder.summary()"
      ],
      "execution_count": null,
      "outputs": [
        {
          "output_type": "stream",
          "text": [
            "Model: \"sequential_4\"\n",
            "_________________________________________________________________\n",
            "Layer (type)                 Output Shape              Param #   \n",
            "=================================================================\n",
            "masking_2 (Masking)          (None, 32, 3)             0         \n",
            "_________________________________________________________________\n",
            "bidirectional_8 (Bidirection (None, 32, 64)            9216      \n",
            "_________________________________________________________________\n",
            "lstm_bottleneck_2 (lstm_bott (None, 32, 14)            4032      \n",
            "=================================================================\n",
            "Total params: 13,248\n",
            "Trainable params: 13,248\n",
            "Non-trainable params: 0\n",
            "_________________________________________________________________\n",
            "Model: \"sequential_5\"\n",
            "_________________________________________________________________\n",
            "Layer (type)                 Output Shape              Param #   \n",
            "=================================================================\n",
            "bidirectional_10 (Bidirectio (None, 32, 64)            12032     \n",
            "_________________________________________________________________\n",
            "bidirectional_11 (Bidirectio (None, 32, 6)             1632      \n",
            "_________________________________________________________________\n",
            "dense_2 (Dense)              (None, 32, 3)             21        \n",
            "=================================================================\n",
            "Total params: 13,685\n",
            "Trainable params: 13,685\n",
            "Non-trainable params: 0\n",
            "_________________________________________________________________\n"
          ],
          "name": "stdout"
        }
      ]
    },
    {
      "cell_type": "code",
      "metadata": {
        "id": "fWaXoSN26reH"
      },
      "source": [
        "ogle_train_data = np.load('data/ogle_train_data.npy')\n",
        "ogle_train_data_lengths = np.load('data/ogle_train_data_lengths.npy')"
      ],
      "execution_count": null,
      "outputs": []
    },
    {
      "cell_type": "code",
      "metadata": {
        "colab": {
          "base_uri": "https://localhost:8080/"
        },
        "id": "SZ9Z2YpuDprw",
        "outputId": "1034f5fa-016f-4789-d722-85ba9009af19"
      },
      "source": [
        "split=0.8\n",
        "n=int(split*len(ogle_train_data))\n",
        "x_train=ogle_train_data[:n]\n",
        "x_test=ogle_train_data[n:]\n",
        "np.shape(x_test)"
      ],
      "execution_count": null,
      "outputs": [
        {
          "output_type": "execute_result",
          "data": {
            "text/plain": [
              "(33215, 32, 3)"
            ]
          },
          "metadata": {
            "tags": []
          },
          "execution_count": 9
        }
      ]
    },
    {
      "cell_type": "code",
      "metadata": {
        "colab": {
          "background_save": true,
          "base_uri": "https://localhost:8080/"
        },
        "id": "K62DGXudwdsg",
        "outputId": "cf4d301e-7a8a-4779-afc8-d90519dffa7d"
      },
      "source": [
        "history=autoencoder.fit(x_train, x_train,\n",
        "                epochs=50,\n",
        "                shuffle=True,\n",
        "                validation_data=(x_test, x_test))"
      ],
      "execution_count": null,
      "outputs": [
        {
          "output_type": "stream",
          "text": [
            "Epoch 1/50\n",
            "4152/4152 [==============================] - 153s 37ms/step - loss: 6723.3174 - mse: 8818.4424 - root_mean_squared_error: 93.9067 - val_loss: 6684.2524 - val_mse: 8756.1846 - val_root_mean_squared_error: 93.5745\n",
            "Epoch 2/50\n",
            "4152/4152 [==============================] - 145s 35ms/step - loss: 6629.6064 - mse: 8695.5293 - root_mean_squared_error: 93.2497 - val_loss: 6594.5205 - val_mse: 8638.6387 - val_root_mean_squared_error: 92.9443\n",
            "Epoch 3/50\n",
            "4152/4152 [==============================] - 145s 35ms/step - loss: 6544.0586 - mse: 8583.3223 - root_mean_squared_error: 92.6461 - val_loss: 6512.9214 - val_mse: 8531.7461 - val_root_mean_squared_error: 92.3674\n",
            "Epoch 4/50\n",
            "4152/4152 [==============================] - 143s 35ms/step - loss: 6465.6494 - mse: 8480.4795 - root_mean_squared_error: 92.0896 - val_loss: 6437.8735 - val_mse: 8433.4355 - val_root_mean_squared_error: 91.8337\n",
            "Epoch 5/50\n",
            "4152/4152 [==============================] - 143s 34ms/step - loss: 6395.1016 - mse: 8387.9473 - root_mean_squared_error: 91.5858 - val_loss: 6371.2266 - val_mse: 8346.1299 - val_root_mean_squared_error: 91.3572\n",
            "Epoch 6/50\n",
            "4152/4152 [==============================] - 143s 34ms/step - loss: 6332.1343 - mse: 8305.3584 - root_mean_squared_error: 91.1337 - val_loss: 6311.6099 - val_mse: 8268.0332 - val_root_mean_squared_error: 90.9288\n",
            "Epoch 7/50\n",
            "4152/4152 [==============================] - 144s 35ms/step - loss: 6275.4775 - mse: 8231.0459 - root_mean_squared_error: 90.7251 - val_loss: 6257.4824 - val_mse: 8197.1279 - val_root_mean_squared_error: 90.5380\n",
            "Epoch 8/50\n",
            "4152/4152 [==============================] - 143s 34ms/step - loss: 6223.3164 - mse: 8162.6304 - root_mean_squared_error: 90.3473 - val_loss: 6207.2217 - val_mse: 8131.2876 - val_root_mean_squared_error: 90.1736\n",
            "Epoch 9/50\n",
            "4152/4152 [==============================] - 143s 35ms/step - loss: 6175.1582 - mse: 8099.4648 - root_mean_squared_error: 89.9970 - val_loss: 6160.9995 - val_mse: 8070.7383 - val_root_mean_squared_error: 89.8372\n",
            "Epoch 10/50\n",
            "4152/4152 [==============================] - 143s 35ms/step - loss: 6129.6704 - mse: 8039.8027 - root_mean_squared_error: 89.6649 - val_loss: 6107.8516 - val_mse: 8001.1157 - val_root_mean_squared_error: 89.4490\n",
            "Epoch 11/50\n",
            "4152/4152 [==============================] - 144s 35ms/step - loss: 6053.7563 - mse: 7940.2319 - root_mean_squared_error: 89.1080 - val_loss: 6032.0420 - val_mse: 7901.8071 - val_root_mean_squared_error: 88.8921\n",
            "Epoch 12/50\n",
            "4152/4152 [==============================] - 143s 35ms/step - loss: 5997.6050 - mse: 7866.5825 - root_mean_squared_error: 88.6938 - val_loss: 5980.5049 - val_mse: 7834.2949 - val_root_mean_squared_error: 88.5116\n",
            "Epoch 13/50\n",
            "4152/4152 [==============================] - 144s 35ms/step - loss: 5947.3286 - mse: 7800.6387 - root_mean_squared_error: 88.3213 - val_loss: 5931.7852 - val_mse: 7770.4736 - val_root_mean_squared_error: 88.1503\n",
            "Epoch 14/50\n",
            "4152/4152 [==============================] - 144s 35ms/step - loss: 5900.7480 - mse: 7739.5430 - root_mean_squared_error: 87.9747 - val_loss: 5886.9751 - val_mse: 7711.7734 - val_root_mean_squared_error: 87.8168\n",
            "Epoch 15/50\n",
            "4152/4152 [==============================] - 145s 35ms/step - loss: 5857.1724 - mse: 7682.3887 - root_mean_squared_error: 87.6492 - val_loss: 5844.5918 - val_mse: 7656.2524 - val_root_mean_squared_error: 87.5000\n",
            "Epoch 16/50\n",
            "4152/4152 [==============================] - 145s 35ms/step - loss: 5815.6445 - mse: 7627.9199 - root_mean_squared_error: 87.3379 - val_loss: 5804.7891 - val_mse: 7604.1123 - val_root_mean_squared_error: 87.2016\n",
            "Epoch 17/50\n",
            "4152/4152 [==============================] - 146s 35ms/step - loss: 5770.2861 - mse: 7568.4263 - root_mean_squared_error: 86.9967 - val_loss: 5756.4644 - val_mse: 7540.8081 - val_root_mean_squared_error: 86.8378\n",
            "Epoch 18/50\n",
            "4152/4152 [==============================] - 144s 35ms/step - loss: 5727.2256 - mse: 7511.9473 - root_mean_squared_error: 86.6715 - val_loss: 5713.7354 - val_mse: 7484.8340 - val_root_mean_squared_error: 86.5150\n",
            "Epoch 19/50\n",
            "4152/4152 [==============================] - 145s 35ms/step - loss: 5685.4087 - mse: 7457.0996 - root_mean_squared_error: 86.3545 - val_loss: 5673.9609 - val_mse: 7432.7310 - val_root_mean_squared_error: 86.2133\n",
            "Epoch 20/50\n",
            "4152/4152 [==============================] - 145s 35ms/step - loss: 5645.7319 - mse: 7405.0591 - root_mean_squared_error: 86.0527 - val_loss: 5636.1221 - val_mse: 7383.1631 - val_root_mean_squared_error: 85.9253\n",
            "Epoch 21/50\n",
            "4152/4152 [==============================] - 144s 35ms/step - loss: 5594.7490 - mse: 7338.1880 - root_mean_squared_error: 85.6632 - val_loss: 5576.6318 - val_mse: 7305.2324 - val_root_mean_squared_error: 85.4706\n",
            "Epoch 22/50\n",
            "4152/4152 [==============================] - 145s 35ms/step - loss: 5531.0127 - mse: 7254.5908 - root_mean_squared_error: 85.1739 - val_loss: 5505.5845 - val_mse: 7212.1626 - val_root_mean_squared_error: 84.9244\n",
            "Epoch 23/50\n",
            "4152/4152 [==============================] - 144s 35ms/step - loss: 5474.3296 - mse: 7180.2437 - root_mean_squared_error: 84.7363 - val_loss: 5456.7046 - val_mse: 7148.1313 - val_root_mean_squared_error: 84.5466\n",
            "Epoch 24/50\n",
            "4152/4152 [==============================] - 146s 35ms/step - loss: 5425.0288 - mse: 7115.5801 - root_mean_squared_error: 84.3539 - val_loss: 5405.7549 - val_mse: 7081.3882 - val_root_mean_squared_error: 84.1510\n",
            "Epoch 25/50\n",
            "4152/4152 [==============================] - 146s 35ms/step - loss: 5376.4595 - mse: 7051.8755 - root_mean_squared_error: 83.9754 - val_loss: 5356.2012 - val_mse: 7016.4746 - val_root_mean_squared_error: 83.7644\n",
            "Epoch 26/50\n",
            "4152/4152 [==============================] - 145s 35ms/step - loss: 5327.4756 - mse: 6987.6270 - root_mean_squared_error: 83.5919 - val_loss: 5307.1079 - val_mse: 6952.1636 - val_root_mean_squared_error: 83.3796\n",
            "Epoch 27/50\n",
            "4152/4152 [==============================] - 145s 35ms/step - loss: 5277.5752 - mse: 6922.1763 - root_mean_squared_error: 83.1996 - val_loss: 5263.1089 - val_mse: 6894.5264 - val_root_mean_squared_error: 83.0333\n",
            "Epoch 28/50\n",
            "4152/4152 [==============================] - 146s 35ms/step - loss: 5227.8374 - mse: 6856.9399 - root_mean_squared_error: 82.8067 - val_loss: 5210.0620 - val_mse: 6825.0361 - val_root_mean_squared_error: 82.6138\n",
            "Epoch 29/50\n",
            "4152/4152 [==============================] - 145s 35ms/step - loss: 5181.2754 - mse: 6795.8682 - root_mean_squared_error: 82.4370 - val_loss: 5164.5234 - val_mse: 6765.3823 - val_root_mean_squared_error: 82.2519\n",
            "Epoch 30/50\n",
            "4152/4152 [==============================] - 145s 35ms/step - loss: 5137.2153 - mse: 6738.0776 - root_mean_squared_error: 82.0858 - val_loss: 5123.5073 - val_mse: 6711.6523 - val_root_mean_squared_error: 81.9246\n",
            "Epoch 31/50\n",
            "4152/4152 [==============================] - 144s 35ms/step - loss: 5094.0649 - mse: 6681.4805 - root_mean_squared_error: 81.7402 - val_loss: 5075.1982 - val_mse: 6648.3682 - val_root_mean_squared_error: 81.5375\n",
            "Epoch 32/50\n",
            "4152/4152 [==============================] - 147s 35ms/step - loss: 5049.0615 - mse: 6622.4531 - root_mean_squared_error: 81.3785 - val_loss: 5033.8877 - val_mse: 6594.2529 - val_root_mean_squared_error: 81.2050\n",
            "Epoch 33/50\n",
            "4152/4152 [==============================] - 147s 36ms/step - loss: 5005.4565 - mse: 6565.2603 - root_mean_squared_error: 81.0263 - val_loss: 4995.1870 - val_mse: 6543.5562 - val_root_mean_squared_error: 80.8923\n",
            "Epoch 34/50\n",
            "4152/4152 [==============================] - 149s 36ms/step - loss: 4962.5571 - mse: 6508.9922 - root_mean_squared_error: 80.6784 - val_loss: 4947.5166 - val_mse: 6481.1089 - val_root_mean_squared_error: 80.5054\n",
            "Epoch 35/50\n",
            "4152/4152 [==============================] - 149s 36ms/step - loss: 4918.3525 - mse: 6451.0127 - root_mean_squared_error: 80.3182 - val_loss: 4899.7651 - val_mse: 6418.5562 - val_root_mean_squared_error: 80.1159\n",
            "Epoch 36/50\n",
            "4152/4152 [==============================] - 146s 35ms/step - loss: 4874.2261 - mse: 6393.1357 - root_mean_squared_error: 79.9571 - val_loss: 4857.8789 - val_mse: 6363.6865 - val_root_mean_squared_error: 79.7728\n",
            "Epoch 37/50\n",
            "4152/4152 [==============================] - 147s 35ms/step - loss: 4830.6846 - mse: 6336.0254 - root_mean_squared_error: 79.5993 - val_loss: 4811.1670 - val_mse: 6302.4951 - val_root_mean_squared_error: 79.3882\n",
            "Epoch 38/50\n",
            "4152/4152 [==============================] - 146s 35ms/step - loss: 4787.7637 - mse: 6279.7295 - root_mean_squared_error: 79.2448 - val_loss: 4772.7661 - val_mse: 6252.1909 - val_root_mean_squared_error: 79.0708\n",
            "Epoch 39/50\n",
            "4152/4152 [==============================] - 144s 35ms/step - loss: 4747.1719 - mse: 6226.4888 - root_mean_squared_error: 78.9081 - val_loss: 4734.3223 - val_mse: 6201.8306 - val_root_mean_squared_error: 78.7517\n",
            "Epoch 40/50\n",
            "4152/4152 [==============================] - 148s 36ms/step - loss: 4707.2163 - mse: 6174.0820 - root_mean_squared_error: 78.5753 - val_loss: 4743.3345 - val_mse: 6213.6362 - val_root_mean_squared_error: 78.8266\n",
            "Epoch 41/50\n",
            "4152/4152 [==============================] - 148s 36ms/step - loss: 4668.0068 - mse: 6122.6538 - root_mean_squared_error: 78.2474 - val_loss: 4652.6582 - val_mse: 6094.8530 - val_root_mean_squared_error: 78.0695\n",
            "Epoch 42/50\n",
            "4152/4152 [==============================] - 148s 36ms/step - loss: 4629.7925 - mse: 6072.5317 - root_mean_squared_error: 77.9265 - val_loss: 4623.1470 - val_mse: 6056.1938 - val_root_mean_squared_error: 77.8216\n",
            "Epoch 43/50\n",
            "4152/4152 [==============================] - 148s 36ms/step - loss: 4592.0137 - mse: 6022.9800 - root_mean_squared_error: 77.6078 - val_loss: 4574.8359 - val_mse: 5992.9077 - val_root_mean_squared_error: 77.4138\n",
            "Epoch 44/50\n",
            "4152/4152 [==============================] - 148s 36ms/step - loss: 4556.6240 - mse: 5976.5625 - root_mean_squared_error: 77.3082 - val_loss: 4541.2393 - val_mse: 5948.8975 - val_root_mean_squared_error: 77.1291\n",
            "Epoch 45/50\n",
            "4152/4152 [==============================] - 149s 36ms/step - loss: 4520.1470 - mse: 5928.7183 - root_mean_squared_error: 76.9982 - val_loss: 4513.6826 - val_mse: 5912.7988 - val_root_mean_squared_error: 76.8948\n",
            "Epoch 46/50\n",
            "4152/4152 [==============================] - 149s 36ms/step - loss: 4485.8569 - mse: 5883.7427 - root_mean_squared_error: 76.7055 - val_loss: 4467.4961 - val_mse: 5852.2959 - val_root_mean_squared_error: 76.5003\n",
            "Epoch 47/50\n",
            "4152/4152 [==============================] - 149s 36ms/step - loss: 4452.1782 - mse: 5839.5693 - root_mean_squared_error: 76.4170 - val_loss: 4440.8193 - val_mse: 5817.3496 - val_root_mean_squared_error: 76.2716\n",
            "Epoch 48/50\n",
            "4152/4152 [==============================] - 148s 36ms/step - loss: 4417.9600 - mse: 5794.6875 - root_mean_squared_error: 76.1229 - val_loss: 4404.8916 - val_mse: 5770.2856 - val_root_mean_squared_error: 75.9623\n",
            "Epoch 49/50\n",
            "4152/4152 [==============================] - 149s 36ms/step - loss: 4383.5513 - mse: 5749.5562 - root_mean_squared_error: 75.8259 - val_loss: 4370.3354 - val_mse: 5725.0176 - val_root_mean_squared_error: 75.6639\n",
            "Epoch 50/50\n",
            "4152/4152 [==============================] - 149s 36ms/step - loss: 4349.3535 - mse: 5704.7017 - root_mean_squared_error: 75.5294 - val_loss: 4331.1636 - val_mse: 5673.7041 - val_root_mean_squared_error: 75.3240\n"
          ],
          "name": "stdout"
        }
      ]
    }
  ]
}