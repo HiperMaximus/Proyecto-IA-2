{
  "nbformat": 4,
  "nbformat_minor": 0,
  "metadata": {
    "colab": {
      "name": "Classification.ipynb",
      "provenance": []
    },
    "kernelspec": {
      "name": "python3",
      "display_name": "Python 3"
    }
  },
  "cells": [
    {
      "cell_type": "code",
      "metadata": {
        "colab": {
          "base_uri": "https://localhost:8080/"
        },
        "id": "cGojn22k2pgl",
        "outputId": "6d9e2575-d070-4995-d5f6-88f515a4f1de"
      },
      "source": [
        "#@title *code:* library imports\n",
        "import tensorflow.keras.layers as tfkl\n",
        "import tensorflow.keras as tfk\n",
        "%tensorflow_version 2.x\n",
        "#device_name = tf.test.gpu_device_name()\n",
        "#if device_name != '/device:GPU:0':\n",
        "#  raise SystemError('GPU device not found')\n",
        "#print('Found GPU at: {}'.format(device_name))\n",
        "from tensorflow.keras.models import Model\n",
        "from tensorflow.keras import layers, losses\n",
        "import keras.backend as K\n",
        "import numpy as np\n",
        "import matplotlib.pyplot as plt\n",
        "import pandas as pd\n",
        "import os\n",
        "import dill\n",
        "from google.colab import drive\n",
        "drive.mount('/content/drive')\n",
        "os.chdir('/content/drive/My Drive/course-IA2/Work-Max/Proyecto')\n",
        "print(os.getcwd())"
      ],
      "execution_count": null,
      "outputs": [
        {
          "output_type": "stream",
          "text": [
            "Drive already mounted at /content/drive; to attempt to forcibly remount, call drive.mount(\"/content/drive\", force_remount=True).\n",
            "/content/drive/My Drive/course-IA2/Work-Max/Proyecto\n"
          ],
          "name": "stdout"
        }
      ]
    },
    {
      "cell_type": "code",
      "metadata": {
        "id": "6mPlm3Gw23gi"
      },
      "source": [
        "class lstm_bottleneck(tfkl.Layer):\n",
        "    def __init__(self, lstm_units, time_steps, **kwargs):\n",
        "        self.lstm_units = lstm_units\n",
        "        self.time_steps = time_steps\n",
        "        self.lstm_layer = tfkl.Bidirectional(tfkl.LSTM(lstm_units,return_sequences=False))\n",
        "        self.repeat_layer = tfkl.RepeatVector(time_steps)\n",
        "        super(lstm_bottleneck, self).__init__(**kwargs)\n",
        "    \n",
        "    def call(self, inputs):\n",
        "        # just call the two initialized layers\n",
        "        return self.repeat_layer(self.lstm_layer(inputs))\n",
        "    \n",
        "    def compute_mask(self, inputs, mask=None):\n",
        "        # return the input_mask directly\n",
        "        return mask"
      ],
      "execution_count": null,
      "outputs": []
    },
    {
      "cell_type": "code",
      "metadata": {
        "id": "QbHplabB3B1z"
      },
      "source": [
        "latent_dim = 7\n",
        "\n",
        "class Autoencoder(Model):\n",
        "  def __init__(self, latent_dim):\n",
        "    super(Autoencoder, self).__init__()\n",
        "    self.latent_dim = latent_dim   \n",
        "    self.encoder = tfk.Sequential()\n",
        "    self.encoder.add(tfkl.Input(shape=(32, 3)))\n",
        "    self.encoder.add(tfk.layers.Masking(mask_value=0.))\n",
        "\n",
        "    self.encoder.add(tfkl.Bidirectional(tfkl.LSTM(units=32,return_sequences=True)))\n",
        "    self.encoder.add(lstm_bottleneck(lstm_units=self.latent_dim, time_steps=32))\n",
        "\n",
        "    self.decoder = tfk.Sequential()\n",
        "\n",
        "    self.decoder.add(tfkl.Bidirectional(tfkl.LSTM(units=32,return_sequences=True)))\n",
        "    self.decoder.add(tfkl.Bidirectional(tfkl.LSTM(units=3,return_sequences=True)))\n",
        "    self.decoder.add(tfk.layers.Dense(3,activation='elu'))\n",
        "    \n",
        "  def call(self, x):\n",
        "    encoded = self.encoder(x)\n",
        "    decoded = self.decoder(encoded)\n",
        "    return decoded\n",
        "  \n",
        "\n",
        "autoencoder = Autoencoder(latent_dim,)"
      ],
      "execution_count": null,
      "outputs": []
    },
    {
      "cell_type": "code",
      "metadata": {
        "colab": {
          "base_uri": "https://localhost:8080/"
        },
        "id": "XaEKK0t13Jg1",
        "outputId": "cd36f20c-8e26-4794-af51-4c3faa4a8b77"
      },
      "source": [
        "autoencoder.build((None,32,3))\n",
        "autoencoder.load_weights(\"autoencoder_LSTM_ckpt_weights\" ).expect_partial()\n",
        "autoencoder.encoder.summary()\n",
        "autoencoder.decoder.summary()"
      ],
      "execution_count": null,
      "outputs": [
        {
          "output_type": "stream",
          "text": [
            "Model: \"sequential_2\"\n",
            "_________________________________________________________________\n",
            "Layer (type)                 Output Shape              Param #   \n",
            "=================================================================\n",
            "masking_1 (Masking)          (None, 32, 3)             0         \n",
            "_________________________________________________________________\n",
            "bidirectional_4 (Bidirection (None, 32, 64)            9216      \n",
            "_________________________________________________________________\n",
            "lstm_bottleneck_1 (lstm_bott (None, 32, 14)            4032      \n",
            "=================================================================\n",
            "Total params: 13,248\n",
            "Trainable params: 13,248\n",
            "Non-trainable params: 0\n",
            "_________________________________________________________________\n",
            "Model: \"sequential_3\"\n",
            "_________________________________________________________________\n",
            "Layer (type)                 Output Shape              Param #   \n",
            "=================================================================\n",
            "bidirectional_6 (Bidirection (None, 32, 64)            12032     \n",
            "_________________________________________________________________\n",
            "bidirectional_7 (Bidirection (None, 32, 6)             1632      \n",
            "_________________________________________________________________\n",
            "dense_1 (Dense)              (None, 32, 3)             21        \n",
            "=================================================================\n",
            "Total params: 13,685\n",
            "Trainable params: 13,685\n",
            "Non-trainable params: 0\n",
            "_________________________________________________________________\n"
          ],
          "name": "stdout"
        }
      ]
    },
    {
      "cell_type": "code",
      "metadata": {
        "colab": {
          "base_uri": "https://localhost:8080/"
        },
        "id": "Wd4tnNiCe9ee",
        "outputId": "4a2d1f3f-35d5-4fc4-f455-0c397eac48e0"
      },
      "source": [
        "autoencoder.summary()"
      ],
      "execution_count": null,
      "outputs": [
        {
          "output_type": "stream",
          "text": [
            "Model: \"autoencoder_1\"\n",
            "_________________________________________________________________\n",
            "Layer (type)                 Output Shape              Param #   \n",
            "=================================================================\n",
            "sequential_2 (Sequential)    (None, 32, 14)            13248     \n",
            "_________________________________________________________________\n",
            "sequential_3 (Sequential)    (None, 32, 3)             13685     \n",
            "=================================================================\n",
            "Total params: 26,933\n",
            "Trainable params: 26,933\n",
            "Non-trainable params: 0\n",
            "_________________________________________________________________\n"
          ],
          "name": "stdout"
        }
      ]
    },
    {
      "cell_type": "code",
      "metadata": {
        "id": "UFQYBnkNDRDl"
      },
      "source": [
        "def mask(arr,mask_value=-8):\n",
        "  sel=np.diff(arr,axis=0)\n",
        "  sel=np.sum(sel,axis=1)!=0.\n",
        "  sel=np.concatenate((sel,[False]))\n",
        "  return sum(sel)"
      ],
      "execution_count": null,
      "outputs": []
    },
    {
      "cell_type": "code",
      "metadata": {
        "id": "yGImFVRX6Mj5"
      },
      "source": [
        "def masked_mse(prediction,real_vals,mask,mask_value=-8):\n",
        "  dif=prediction[:mask]-real_vals[:mask]\n",
        "  mse = (np.square(dif)).mean(axis=None)\n",
        "  return mse"
      ],
      "execution_count": null,
      "outputs": []
    },
    {
      "cell_type": "code",
      "metadata": {
        "id": "659QQIHeJLvQ"
      },
      "source": [
        "cep = np.load('data/ogle_train_data.npy')\n",
        "n=int(len(cep)*0.8)\n",
        "cep=cep[n:]#test_data\n",
        "pred_cep=autoencoder.predict(cep)"
      ],
      "execution_count": null,
      "outputs": []
    },
    {
      "cell_type": "code",
      "metadata": {
        "colab": {
          "base_uri": "https://localhost:8080/"
        },
        "id": "ZocnXW9Q9zmB",
        "outputId": "4120e815-d817-464f-fab3-794384d21232"
      },
      "source": [
        "mask_cep=[mask(s) for s in cep]\n",
        "mse_cep=[masked_mse(prediction,cep[i],mask_cep[i],0.) for i,prediction in enumerate(pred_cep)]\n",
        "mse_cep=np.array(mse_cep)\n",
        "MSE_cep=(mse_cep.mean(),mse_cep.max(),mse_cep.min())\n",
        "print('Mean MSE for Cep data is: ',MSE_cep[0])\n",
        "print('Max MSE for Cep data is:',MSE_cep[1])\n",
        "print('Min MSE for Cep data is:',MSE_cep[2])"
      ],
      "execution_count": null,
      "outputs": [
        {
          "output_type": "stream",
          "text": [
            "Mean MSE for Cep data is:  5819.561664891817\n",
            "Max MSE for Cep data is: 190481.8768829917\n",
            "Min MSE for Cep data is: 23.640436702061876\n"
          ],
          "name": "stdout"
        }
      ]
    },
    {
      "cell_type": "code",
      "metadata": {
        "id": "muViIGIMNIT_"
      },
      "source": [
        "rrlyr = np.load('data/OGLE_data/rrlyr.npy')\n",
        "rrly=rrlyr[:2000]\n",
        "pred_rrlyr=autoencoder.predict(rrlyr)"
      ],
      "execution_count": null,
      "outputs": []
    },
    {
      "cell_type": "code",
      "metadata": {
        "colab": {
          "base_uri": "https://localhost:8080/"
        },
        "id": "BfL5jaEGZpmq",
        "outputId": "2c6bb03d-9bed-4dc9-b5a9-1b631567b9c2"
      },
      "source": [
        "mask_rrlyr=[mask(s) for s in rrlyr]\n",
        "mse_rrlyr=[masked_mse(prediction,rrlyr[i],mask_rrlyr[i],-8.) for i,prediction in enumerate(pred_rrlyr)]\n",
        "mse_rrlyr=np.array(mse_rrlyr)\n",
        "MSE_rrlyr=(mse_rrlyr.mean(),mse_rrlyr.max(),mse_rrlyr.min())\n",
        "print('Mean MSE for Rrlyr data is: ',MSE_rrlyr[0])\n",
        "print('Max MSE for Rrlyr data is:',MSE_rrlyr[1])\n",
        "print('Min MSE for Rrlyr data is:',MSE_rrlyr[2])"
      ],
      "execution_count": null,
      "outputs": [
        {
          "output_type": "stream",
          "text": [
            "Mean MSE for Rrlyr data is:  11966346.737544492\n",
            "Max MSE for Rrlyr data is: 22383903.090269934\n",
            "Min MSE for Rrlyr data is: 9820725.792896278\n"
          ],
          "name": "stdout"
        }
      ]
    },
    {
      "cell_type": "code",
      "metadata": {
        "id": "1XMoQ5ndZo5K"
      },
      "source": [
        "acep = np.load('data/OGLE_data/acep.npy')\n",
        "acep=acep[:2000]\n",
        "pred_acep=autoencoder.predict(acep)"
      ],
      "execution_count": null,
      "outputs": []
    },
    {
      "cell_type": "code",
      "metadata": {
        "colab": {
          "base_uri": "https://localhost:8080/"
        },
        "id": "tPoIzTLlbWDR",
        "outputId": "e0a30518-6754-4856-dba2-089a4382e3ed"
      },
      "source": [
        "mask_acep=[mask(s) for s in acep]\n",
        "mse_acep=[masked_mse(prediction,acep[i],mask_acep[i],-8.) for i,prediction in enumerate(pred_acep)]\n",
        "mse_acep=np.array(mse_acep)\n",
        "MSE_acep=(mse_acep.mean(),mse_acep.max(),mse_acep.min())\n",
        "print('Mean MSE for Acep data is: ',MSE_acep[0])\n",
        "print('Max MSE for Acep data is:',MSE_acep[1])\n",
        "print('Min MSE for Acep data is:',MSE_acep[2])"
      ],
      "execution_count": null,
      "outputs": [
        {
          "output_type": "stream",
          "text": [
            "Mean MSE for Acep data is:  10483469.925480977\n",
            "Max MSE for Acep data is: 11124888.48133775\n",
            "Min MSE for Acep data is: 9914071.185982602\n"
          ],
          "name": "stdout"
        }
      ]
    },
    {
      "cell_type": "code",
      "metadata": {
        "id": "nz3OPT5LbvZK"
      },
      "source": [
        "t2cep = np.load('data/OGLE_data/t2cep.npy')\n",
        "t2cep=t2cep[:2000]\n",
        "pred_t2cep=autoencoder.predict(t2cep)"
      ],
      "execution_count": null,
      "outputs": []
    },
    {
      "cell_type": "code",
      "metadata": {
        "colab": {
          "base_uri": "https://localhost:8080/"
        },
        "id": "BnP9nZ8McDs4",
        "outputId": "7dec7918-7efb-48ca-9ba9-93e6e8ea7525"
      },
      "source": [
        "mask_t2cep=[mask(s) for s in t2cep]\n",
        "mse_t2cep=[masked_mse(prediction,t2cep[i],mask_t2cep[i],-8.) for i,prediction in enumerate(pred_t2cep)]\n",
        "mse_t2cep=np.array(mse_t2cep)\n",
        "MSE_t2cep=(mse_t2cep.mean(),mse_t2cep.max(),mse_t2cep.min())\n",
        "print('Mean MSE for T2CEP data is: ',MSE_t2cep[0])\n",
        "print('Max MSE for T2CEP data is:',MSE_t2cep[1])\n",
        "print('Min MSE for T2CEP data is:',MSE_t2cep[2])"
      ],
      "execution_count": null,
      "outputs": [
        {
          "output_type": "stream",
          "text": [
            "Mean MSE for T2CEP data is:  10483469.925480977\n",
            "Max MSE for T2CEP data is: 11124888.48133775\n",
            "Min MSE for T2CEP data is: 9914071.185982602\n"
          ],
          "name": "stdout"
        }
      ]
    },
    {
      "cell_type": "code",
      "metadata": {
        "id": "sShjv14ecdWB"
      },
      "source": [
        "ecl = np.load('data/OGLE_data/ecl.npy')\n",
        "ecl=ecl[:2000]\n",
        "pred_ecl=autoencoder.predict(ecl)"
      ],
      "execution_count": null,
      "outputs": []
    },
    {
      "cell_type": "code",
      "metadata": {
        "colab": {
          "base_uri": "https://localhost:8080/"
        },
        "id": "99ow7mXycly8",
        "outputId": "1e8b7776-e03b-4788-96e0-09468491daef"
      },
      "source": [
        "mask_ecl=[mask(s) for s in ecl]\n",
        "mse_ecl=[masked_mse(prediction,ecl[i],mask_ecl[i],-8.) for i,prediction in enumerate(pred_ecl)]\n",
        "mse_ecl=np.array(mse_ecl)\n",
        "MSE_ecl=(mse_ecl.mean(),mse_ecl.max(),mse_ecl.min())\n",
        "print('Mean MSE for Ecl data is: ',MSE_ecl[0])\n",
        "print('Max MSE for Ecl data is:',MSE_ecl[1])\n",
        "print('Min MSE for Ecl data is:',MSE_ecl[2])"
      ],
      "execution_count": null,
      "outputs": [
        {
          "output_type": "stream",
          "text": [
            "Mean MSE for Ecl data is:  10483469.925480977\n",
            "Max MSE for Ecl data is: 11124888.48133775\n",
            "Min MSE for Ecl data is: 9914071.185982602\n"
          ],
          "name": "stdout"
        }
      ]
    },
    {
      "cell_type": "code",
      "metadata": {
        "colab": {
          "base_uri": "https://localhost:8080/"
        },
        "id": "CIdsRWqGc4Wl",
        "outputId": "405b39e5-3811-4325-c0c6-f59b2d227058"
      },
      "source": [
        "print('CEP',MSE_cep)\n",
        "print('RRLYR',MSE_rrlyr)\n",
        "print('ACEP',MSE_acep)\n",
        "print('ECL',MSE_ecl)\n",
        "print('T2CEP',MSE_t2cep)"
      ],
      "execution_count": null,
      "outputs": [
        {
          "output_type": "stream",
          "text": [
            "CEP (11809439.445997503, 15695147.678000279, 9820688.413735067)\n",
            "RRLYR (11966346.737544492, 22383903.090269934, 9820725.792896278)\n",
            "ACEP (10483469.925480977, 11124888.48133775, 9914071.185982602)\n",
            "ECL (10483469.925480977, 11124888.48133775, 9914071.185982602)\n",
            "T2CEP (10483469.925480977, 11124888.48133775, 9914071.185982602)\n"
          ],
          "name": "stdout"
        }
      ]
    },
    {
      "cell_type": "code",
      "metadata": {
        "id": "IyewQVEIdHdU"
      },
      "source": [
        ""
      ],
      "execution_count": null,
      "outputs": []
    }
  ]
}