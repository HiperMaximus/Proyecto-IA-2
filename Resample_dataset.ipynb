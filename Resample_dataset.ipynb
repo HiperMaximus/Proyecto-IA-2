{
  "nbformat": 4,
  "nbformat_minor": 0,
  "metadata": {
    "colab": {
      "name": "Resample_dataset.ipynb",
      "provenance": [],
      "collapsed_sections": []
    },
    "kernelspec": {
      "name": "python3",
      "display_name": "Python 3"
    },
    "widgets": {
      "application/vnd.jupyter.widget-state+json": {
        "0f906052cff24cb7b83ac1a637849555": {
          "model_module": "@jupyter-widgets/controls",
          "model_name": "HBoxModel",
          "state": {
            "_view_name": "HBoxView",
            "_dom_classes": [],
            "_model_name": "HBoxModel",
            "_view_module": "@jupyter-widgets/controls",
            "_model_module_version": "1.5.0",
            "_view_count": null,
            "_view_module_version": "1.5.0",
            "box_style": "",
            "layout": "IPY_MODEL_06977436656d418a9b685055b866fd64",
            "_model_module": "@jupyter-widgets/controls",
            "children": [
              "IPY_MODEL_8d8800e6e0534c29892e2f1edafa0f4d",
              "IPY_MODEL_68252ddb00964cb1925b39cebdfe59a1"
            ]
          }
        },
        "06977436656d418a9b685055b866fd64": {
          "model_module": "@jupyter-widgets/base",
          "model_name": "LayoutModel",
          "state": {
            "_view_name": "LayoutView",
            "grid_template_rows": null,
            "right": null,
            "justify_content": null,
            "_view_module": "@jupyter-widgets/base",
            "overflow": null,
            "_model_module_version": "1.2.0",
            "_view_count": null,
            "flex_flow": null,
            "width": null,
            "min_width": null,
            "border": null,
            "align_items": null,
            "bottom": null,
            "_model_module": "@jupyter-widgets/base",
            "top": null,
            "grid_column": null,
            "overflow_y": null,
            "overflow_x": null,
            "grid_auto_flow": null,
            "grid_area": null,
            "grid_template_columns": null,
            "flex": null,
            "_model_name": "LayoutModel",
            "justify_items": null,
            "grid_row": null,
            "max_height": null,
            "align_content": null,
            "visibility": null,
            "align_self": null,
            "height": null,
            "min_height": null,
            "padding": null,
            "grid_auto_rows": null,
            "grid_gap": null,
            "max_width": null,
            "order": null,
            "_view_module_version": "1.2.0",
            "grid_template_areas": null,
            "object_position": null,
            "object_fit": null,
            "grid_auto_columns": null,
            "margin": null,
            "display": null,
            "left": null
          }
        },
        "8d8800e6e0534c29892e2f1edafa0f4d": {
          "model_module": "@jupyter-widgets/controls",
          "model_name": "FloatProgressModel",
          "state": {
            "_view_name": "ProgressView",
            "style": "IPY_MODEL_4ecf7da28297464da4b05c2b94a6e30b",
            "_dom_classes": [],
            "description": "100%",
            "_model_name": "FloatProgressModel",
            "bar_style": "success",
            "max": 13,
            "_view_module": "@jupyter-widgets/controls",
            "_model_module_version": "1.5.0",
            "value": 13,
            "_view_count": null,
            "_view_module_version": "1.5.0",
            "orientation": "horizontal",
            "min": 0,
            "description_tooltip": null,
            "_model_module": "@jupyter-widgets/controls",
            "layout": "IPY_MODEL_0905d8e47f7647228d7b6800e39f19fb"
          }
        },
        "68252ddb00964cb1925b39cebdfe59a1": {
          "model_module": "@jupyter-widgets/controls",
          "model_name": "HTMLModel",
          "state": {
            "_view_name": "HTMLView",
            "style": "IPY_MODEL_f9d2e37e224a4127b6422afef5a305af",
            "_dom_classes": [],
            "description": "",
            "_model_name": "HTMLModel",
            "placeholder": "​",
            "_view_module": "@jupyter-widgets/controls",
            "_model_module_version": "1.5.0",
            "value": " 13/13 [1:16:44&lt;00:00, 354.19s/it]",
            "_view_count": null,
            "_view_module_version": "1.5.0",
            "description_tooltip": null,
            "_model_module": "@jupyter-widgets/controls",
            "layout": "IPY_MODEL_d162aa1b04954b07837f4152eb3326e8"
          }
        },
        "4ecf7da28297464da4b05c2b94a6e30b": {
          "model_module": "@jupyter-widgets/controls",
          "model_name": "ProgressStyleModel",
          "state": {
            "_view_name": "StyleView",
            "_model_name": "ProgressStyleModel",
            "description_width": "initial",
            "_view_module": "@jupyter-widgets/base",
            "_model_module_version": "1.5.0",
            "_view_count": null,
            "_view_module_version": "1.2.0",
            "bar_color": null,
            "_model_module": "@jupyter-widgets/controls"
          }
        },
        "0905d8e47f7647228d7b6800e39f19fb": {
          "model_module": "@jupyter-widgets/base",
          "model_name": "LayoutModel",
          "state": {
            "_view_name": "LayoutView",
            "grid_template_rows": null,
            "right": null,
            "justify_content": null,
            "_view_module": "@jupyter-widgets/base",
            "overflow": null,
            "_model_module_version": "1.2.0",
            "_view_count": null,
            "flex_flow": null,
            "width": null,
            "min_width": null,
            "border": null,
            "align_items": null,
            "bottom": null,
            "_model_module": "@jupyter-widgets/base",
            "top": null,
            "grid_column": null,
            "overflow_y": null,
            "overflow_x": null,
            "grid_auto_flow": null,
            "grid_area": null,
            "grid_template_columns": null,
            "flex": null,
            "_model_name": "LayoutModel",
            "justify_items": null,
            "grid_row": null,
            "max_height": null,
            "align_content": null,
            "visibility": null,
            "align_self": null,
            "height": null,
            "min_height": null,
            "padding": null,
            "grid_auto_rows": null,
            "grid_gap": null,
            "max_width": null,
            "order": null,
            "_view_module_version": "1.2.0",
            "grid_template_areas": null,
            "object_position": null,
            "object_fit": null,
            "grid_auto_columns": null,
            "margin": null,
            "display": null,
            "left": null
          }
        },
        "f9d2e37e224a4127b6422afef5a305af": {
          "model_module": "@jupyter-widgets/controls",
          "model_name": "DescriptionStyleModel",
          "state": {
            "_view_name": "StyleView",
            "_model_name": "DescriptionStyleModel",
            "description_width": "",
            "_view_module": "@jupyter-widgets/base",
            "_model_module_version": "1.5.0",
            "_view_count": null,
            "_view_module_version": "1.2.0",
            "_model_module": "@jupyter-widgets/controls"
          }
        },
        "d162aa1b04954b07837f4152eb3326e8": {
          "model_module": "@jupyter-widgets/base",
          "model_name": "LayoutModel",
          "state": {
            "_view_name": "LayoutView",
            "grid_template_rows": null,
            "right": null,
            "justify_content": null,
            "_view_module": "@jupyter-widgets/base",
            "overflow": null,
            "_model_module_version": "1.2.0",
            "_view_count": null,
            "flex_flow": null,
            "width": null,
            "min_width": null,
            "border": null,
            "align_items": null,
            "bottom": null,
            "_model_module": "@jupyter-widgets/base",
            "top": null,
            "grid_column": null,
            "overflow_y": null,
            "overflow_x": null,
            "grid_auto_flow": null,
            "grid_area": null,
            "grid_template_columns": null,
            "flex": null,
            "_model_name": "LayoutModel",
            "justify_items": null,
            "grid_row": null,
            "max_height": null,
            "align_content": null,
            "visibility": null,
            "align_self": null,
            "height": null,
            "min_height": null,
            "padding": null,
            "grid_auto_rows": null,
            "grid_gap": null,
            "max_width": null,
            "order": null,
            "_view_module_version": "1.2.0",
            "grid_template_areas": null,
            "object_position": null,
            "object_fit": null,
            "grid_auto_columns": null,
            "margin": null,
            "display": null,
            "left": null
          }
        },
        "8b7efd9e434548869cefdb51ab3ed1ff": {
          "model_module": "@jupyter-widgets/controls",
          "model_name": "HBoxModel",
          "state": {
            "_view_name": "HBoxView",
            "_dom_classes": [],
            "_model_name": "HBoxModel",
            "_view_module": "@jupyter-widgets/controls",
            "_model_module_version": "1.5.0",
            "_view_count": null,
            "_view_module_version": "1.5.0",
            "box_style": "",
            "layout": "IPY_MODEL_13fb3417eefa43c6922bc799bebd0121",
            "_model_module": "@jupyter-widgets/controls",
            "children": [
              "IPY_MODEL_713cd82d06d54c2aa021771c7bce9cd7",
              "IPY_MODEL_79ba972b333f422a9c9d12d8110cd26f"
            ]
          }
        },
        "13fb3417eefa43c6922bc799bebd0121": {
          "model_module": "@jupyter-widgets/base",
          "model_name": "LayoutModel",
          "state": {
            "_view_name": "LayoutView",
            "grid_template_rows": null,
            "right": null,
            "justify_content": null,
            "_view_module": "@jupyter-widgets/base",
            "overflow": null,
            "_model_module_version": "1.2.0",
            "_view_count": null,
            "flex_flow": null,
            "width": null,
            "min_width": null,
            "border": null,
            "align_items": null,
            "bottom": null,
            "_model_module": "@jupyter-widgets/base",
            "top": null,
            "grid_column": null,
            "overflow_y": null,
            "overflow_x": null,
            "grid_auto_flow": null,
            "grid_area": null,
            "grid_template_columns": null,
            "flex": null,
            "_model_name": "LayoutModel",
            "justify_items": null,
            "grid_row": null,
            "max_height": null,
            "align_content": null,
            "visibility": null,
            "align_self": null,
            "height": null,
            "min_height": null,
            "padding": null,
            "grid_auto_rows": null,
            "grid_gap": null,
            "max_width": null,
            "order": null,
            "_view_module_version": "1.2.0",
            "grid_template_areas": null,
            "object_position": null,
            "object_fit": null,
            "grid_auto_columns": null,
            "margin": null,
            "display": null,
            "left": null
          }
        },
        "713cd82d06d54c2aa021771c7bce9cd7": {
          "model_module": "@jupyter-widgets/controls",
          "model_name": "FloatProgressModel",
          "state": {
            "_view_name": "ProgressView",
            "style": "IPY_MODEL_6d0846c675fa43d3b43e386402004a9e",
            "_dom_classes": [],
            "description": "100%",
            "_model_name": "FloatProgressModel",
            "bar_style": "success",
            "max": 4368,
            "_view_module": "@jupyter-widgets/controls",
            "_model_module_version": "1.5.0",
            "value": 4368,
            "_view_count": null,
            "_view_module_version": "1.5.0",
            "orientation": "horizontal",
            "min": 0,
            "description_tooltip": null,
            "_model_module": "@jupyter-widgets/controls",
            "layout": "IPY_MODEL_c78c68a3857e4d03bf9564fdad6a9e92"
          }
        },
        "79ba972b333f422a9c9d12d8110cd26f": {
          "model_module": "@jupyter-widgets/controls",
          "model_name": "HTMLModel",
          "state": {
            "_view_name": "HTMLView",
            "style": "IPY_MODEL_4283b507f9d24a9aaf40519531e50cba",
            "_dom_classes": [],
            "description": "",
            "_model_name": "HTMLModel",
            "placeholder": "​",
            "_view_module": "@jupyter-widgets/controls",
            "_model_module_version": "1.5.0",
            "value": " 4368/4368 [21:59&lt;00:00,  3.31it/s]",
            "_view_count": null,
            "_view_module_version": "1.5.0",
            "description_tooltip": null,
            "_model_module": "@jupyter-widgets/controls",
            "layout": "IPY_MODEL_f0453f9d6c964fac8b1b96c1d9041d12"
          }
        },
        "6d0846c675fa43d3b43e386402004a9e": {
          "model_module": "@jupyter-widgets/controls",
          "model_name": "ProgressStyleModel",
          "state": {
            "_view_name": "StyleView",
            "_model_name": "ProgressStyleModel",
            "description_width": "initial",
            "_view_module": "@jupyter-widgets/base",
            "_model_module_version": "1.5.0",
            "_view_count": null,
            "_view_module_version": "1.2.0",
            "bar_color": null,
            "_model_module": "@jupyter-widgets/controls"
          }
        },
        "c78c68a3857e4d03bf9564fdad6a9e92": {
          "model_module": "@jupyter-widgets/base",
          "model_name": "LayoutModel",
          "state": {
            "_view_name": "LayoutView",
            "grid_template_rows": null,
            "right": null,
            "justify_content": null,
            "_view_module": "@jupyter-widgets/base",
            "overflow": null,
            "_model_module_version": "1.2.0",
            "_view_count": null,
            "flex_flow": null,
            "width": null,
            "min_width": null,
            "border": null,
            "align_items": null,
            "bottom": null,
            "_model_module": "@jupyter-widgets/base",
            "top": null,
            "grid_column": null,
            "overflow_y": null,
            "overflow_x": null,
            "grid_auto_flow": null,
            "grid_area": null,
            "grid_template_columns": null,
            "flex": null,
            "_model_name": "LayoutModel",
            "justify_items": null,
            "grid_row": null,
            "max_height": null,
            "align_content": null,
            "visibility": null,
            "align_self": null,
            "height": null,
            "min_height": null,
            "padding": null,
            "grid_auto_rows": null,
            "grid_gap": null,
            "max_width": null,
            "order": null,
            "_view_module_version": "1.2.0",
            "grid_template_areas": null,
            "object_position": null,
            "object_fit": null,
            "grid_auto_columns": null,
            "margin": null,
            "display": null,
            "left": null
          }
        },
        "4283b507f9d24a9aaf40519531e50cba": {
          "model_module": "@jupyter-widgets/controls",
          "model_name": "DescriptionStyleModel",
          "state": {
            "_view_name": "StyleView",
            "_model_name": "DescriptionStyleModel",
            "description_width": "",
            "_view_module": "@jupyter-widgets/base",
            "_model_module_version": "1.5.0",
            "_view_count": null,
            "_view_module_version": "1.2.0",
            "_model_module": "@jupyter-widgets/controls"
          }
        },
        "f0453f9d6c964fac8b1b96c1d9041d12": {
          "model_module": "@jupyter-widgets/base",
          "model_name": "LayoutModel",
          "state": {
            "_view_name": "LayoutView",
            "grid_template_rows": null,
            "right": null,
            "justify_content": null,
            "_view_module": "@jupyter-widgets/base",
            "overflow": null,
            "_model_module_version": "1.2.0",
            "_view_count": null,
            "flex_flow": null,
            "width": null,
            "min_width": null,
            "border": null,
            "align_items": null,
            "bottom": null,
            "_model_module": "@jupyter-widgets/base",
            "top": null,
            "grid_column": null,
            "overflow_y": null,
            "overflow_x": null,
            "grid_auto_flow": null,
            "grid_area": null,
            "grid_template_columns": null,
            "flex": null,
            "_model_name": "LayoutModel",
            "justify_items": null,
            "grid_row": null,
            "max_height": null,
            "align_content": null,
            "visibility": null,
            "align_self": null,
            "height": null,
            "min_height": null,
            "padding": null,
            "grid_auto_rows": null,
            "grid_gap": null,
            "max_width": null,
            "order": null,
            "_view_module_version": "1.2.0",
            "grid_template_areas": null,
            "object_position": null,
            "object_fit": null,
            "grid_auto_columns": null,
            "margin": null,
            "display": null,
            "left": null
          }
        },
        "f9d5d8f6ba2c49df8064f4fece852af6": {
          "model_module": "@jupyter-widgets/controls",
          "model_name": "HBoxModel",
          "state": {
            "_view_name": "HBoxView",
            "_dom_classes": [],
            "_model_name": "HBoxModel",
            "_view_module": "@jupyter-widgets/controls",
            "_model_module_version": "1.5.0",
            "_view_count": null,
            "_view_module_version": "1.5.0",
            "box_style": "",
            "layout": "IPY_MODEL_1f7ab789fd3b48cf93afd56b236cd971",
            "_model_module": "@jupyter-widgets/controls",
            "children": [
              "IPY_MODEL_3067932a3aab46f1aac80b7cdb3e5dd5",
              "IPY_MODEL_7dcfd8230e66406b89945c85d2229253"
            ]
          }
        },
        "1f7ab789fd3b48cf93afd56b236cd971": {
          "model_module": "@jupyter-widgets/base",
          "model_name": "LayoutModel",
          "state": {
            "_view_name": "LayoutView",
            "grid_template_rows": null,
            "right": null,
            "justify_content": null,
            "_view_module": "@jupyter-widgets/base",
            "overflow": null,
            "_model_module_version": "1.2.0",
            "_view_count": null,
            "flex_flow": null,
            "width": null,
            "min_width": null,
            "border": null,
            "align_items": null,
            "bottom": null,
            "_model_module": "@jupyter-widgets/base",
            "top": null,
            "grid_column": null,
            "overflow_y": null,
            "overflow_x": null,
            "grid_auto_flow": null,
            "grid_area": null,
            "grid_template_columns": null,
            "flex": null,
            "_model_name": "LayoutModel",
            "justify_items": null,
            "grid_row": null,
            "max_height": null,
            "align_content": null,
            "visibility": null,
            "align_self": null,
            "height": null,
            "min_height": null,
            "padding": null,
            "grid_auto_rows": null,
            "grid_gap": null,
            "max_width": null,
            "order": null,
            "_view_module_version": "1.2.0",
            "grid_template_areas": null,
            "object_position": null,
            "object_fit": null,
            "grid_auto_columns": null,
            "margin": null,
            "display": null,
            "left": null
          }
        },
        "3067932a3aab46f1aac80b7cdb3e5dd5": {
          "model_module": "@jupyter-widgets/controls",
          "model_name": "FloatProgressModel",
          "state": {
            "_view_name": "ProgressView",
            "style": "IPY_MODEL_117e0778040e4bf18adbabfef77d1961",
            "_dom_classes": [],
            "description": "100%",
            "_model_name": "FloatProgressModel",
            "bar_style": "success",
            "max": 4368,
            "_view_module": "@jupyter-widgets/controls",
            "_model_module_version": "1.5.0",
            "value": 4368,
            "_view_count": null,
            "_view_module_version": "1.5.0",
            "orientation": "horizontal",
            "min": 0,
            "description_tooltip": null,
            "_model_module": "@jupyter-widgets/controls",
            "layout": "IPY_MODEL_1d25e276c20147be9ac0017113c78de4"
          }
        },
        "7dcfd8230e66406b89945c85d2229253": {
          "model_module": "@jupyter-widgets/controls",
          "model_name": "HTMLModel",
          "state": {
            "_view_name": "HTMLView",
            "style": "IPY_MODEL_90a9e85520fb4cb4978a272374ce86e2",
            "_dom_classes": [],
            "description": "",
            "_model_name": "HTMLModel",
            "placeholder": "​",
            "_view_module": "@jupyter-widgets/controls",
            "_model_module_version": "1.5.0",
            "value": " 4368/4368 [23:43&lt;00:00,  3.07it/s]",
            "_view_count": null,
            "_view_module_version": "1.5.0",
            "description_tooltip": null,
            "_model_module": "@jupyter-widgets/controls",
            "layout": "IPY_MODEL_67710a9c08084e1f8df0b74b913eb77c"
          }
        },
        "117e0778040e4bf18adbabfef77d1961": {
          "model_module": "@jupyter-widgets/controls",
          "model_name": "ProgressStyleModel",
          "state": {
            "_view_name": "StyleView",
            "_model_name": "ProgressStyleModel",
            "description_width": "initial",
            "_view_module": "@jupyter-widgets/base",
            "_model_module_version": "1.5.0",
            "_view_count": null,
            "_view_module_version": "1.2.0",
            "bar_color": null,
            "_model_module": "@jupyter-widgets/controls"
          }
        },
        "1d25e276c20147be9ac0017113c78de4": {
          "model_module": "@jupyter-widgets/base",
          "model_name": "LayoutModel",
          "state": {
            "_view_name": "LayoutView",
            "grid_template_rows": null,
            "right": null,
            "justify_content": null,
            "_view_module": "@jupyter-widgets/base",
            "overflow": null,
            "_model_module_version": "1.2.0",
            "_view_count": null,
            "flex_flow": null,
            "width": null,
            "min_width": null,
            "border": null,
            "align_items": null,
            "bottom": null,
            "_model_module": "@jupyter-widgets/base",
            "top": null,
            "grid_column": null,
            "overflow_y": null,
            "overflow_x": null,
            "grid_auto_flow": null,
            "grid_area": null,
            "grid_template_columns": null,
            "flex": null,
            "_model_name": "LayoutModel",
            "justify_items": null,
            "grid_row": null,
            "max_height": null,
            "align_content": null,
            "visibility": null,
            "align_self": null,
            "height": null,
            "min_height": null,
            "padding": null,
            "grid_auto_rows": null,
            "grid_gap": null,
            "max_width": null,
            "order": null,
            "_view_module_version": "1.2.0",
            "grid_template_areas": null,
            "object_position": null,
            "object_fit": null,
            "grid_auto_columns": null,
            "margin": null,
            "display": null,
            "left": null
          }
        },
        "90a9e85520fb4cb4978a272374ce86e2": {
          "model_module": "@jupyter-widgets/controls",
          "model_name": "DescriptionStyleModel",
          "state": {
            "_view_name": "StyleView",
            "_model_name": "DescriptionStyleModel",
            "description_width": "",
            "_view_module": "@jupyter-widgets/base",
            "_model_module_version": "1.5.0",
            "_view_count": null,
            "_view_module_version": "1.2.0",
            "_model_module": "@jupyter-widgets/controls"
          }
        },
        "67710a9c08084e1f8df0b74b913eb77c": {
          "model_module": "@jupyter-widgets/base",
          "model_name": "LayoutModel",
          "state": {
            "_view_name": "LayoutView",
            "grid_template_rows": null,
            "right": null,
            "justify_content": null,
            "_view_module": "@jupyter-widgets/base",
            "overflow": null,
            "_model_module_version": "1.2.0",
            "_view_count": null,
            "flex_flow": null,
            "width": null,
            "min_width": null,
            "border": null,
            "align_items": null,
            "bottom": null,
            "_model_module": "@jupyter-widgets/base",
            "top": null,
            "grid_column": null,
            "overflow_y": null,
            "overflow_x": null,
            "grid_auto_flow": null,
            "grid_area": null,
            "grid_template_columns": null,
            "flex": null,
            "_model_name": "LayoutModel",
            "justify_items": null,
            "grid_row": null,
            "max_height": null,
            "align_content": null,
            "visibility": null,
            "align_self": null,
            "height": null,
            "min_height": null,
            "padding": null,
            "grid_auto_rows": null,
            "grid_gap": null,
            "max_width": null,
            "order": null,
            "_view_module_version": "1.2.0",
            "grid_template_areas": null,
            "object_position": null,
            "object_fit": null,
            "grid_auto_columns": null,
            "margin": null,
            "display": null,
            "left": null
          }
        }
      }
    }
  },
  "cells": [
    {
      "cell_type": "code",
      "metadata": {
        "colab": {
          "base_uri": "https://localhost:8080/"
        },
        "id": "I9VszIQyNp4v",
        "outputId": "8872caab-df85-4086-8a1f-ca0ccac1ea2f"
      },
      "source": [
        "import numpy as np\n",
        "import pandas as pd\n",
        "import os\n",
        "import matplotlib.pyplot as plt\n",
        "from timeit import default_timer as timer\n",
        "from tqdm.notebook import trange, tqdm\n",
        "import multiprocessing as mp\n",
        "from google.colab import drive\n",
        "drive.mount('/content/drive')\n",
        "os.chdir('/content/drive/My Drive/course-IA2/Work-Max/Proyecto')\n",
        "print(os.getcwd())"
      ],
      "execution_count": null,
      "outputs": [
        {
          "output_type": "stream",
          "text": [
            "Mounted at /content/drive\n",
            "/content/drive/My Drive/course-IA2/Work-Max/Proyecto\n"
          ],
          "name": "stdout"
        }
      ]
    },
    {
      "cell_type": "code",
      "metadata": {
        "colab": {
          "base_uri": "https://localhost:8080/"
        },
        "id": "20fYl23eO8dz",
        "outputId": "46f33fb9-e2a9-444b-f8a4-f29f3b1e1af3"
      },
      "source": [
        "ogle_train_data_lengths = np.load('data/ogle_train_data_lengths.npy')\n",
        "np.shape(ogle_train_data_lengths)"
      ],
      "execution_count": null,
      "outputs": [
        {
          "output_type": "execute_result",
          "data": {
            "text/plain": [
              "(166075,)"
            ]
          },
          "metadata": {
            "tags": []
          },
          "execution_count": 2
        }
      ]
    },
    {
      "cell_type": "code",
      "metadata": {
        "colab": {
          "base_uri": "https://localhost:8080/",
          "height": 298
        },
        "id": "ORLOPq3SPK7m",
        "outputId": "cafe9785-f6c5-4ae1-f781-e6e82774c44c"
      },
      "source": [
        "puntos=pd.DataFrame()\n",
        "puntos['Numero de puntos por curva de luz']=ogle_train_data_lengths\n",
        "ax=plt.figure(figsize=(10,10))\n",
        "ax=puntos.hist(bins=12)"
      ],
      "execution_count": null,
      "outputs": [
        {
          "output_type": "display_data",
          "data": {
            "text/plain": [
              "<Figure size 720x720 with 0 Axes>"
            ]
          },
          "metadata": {
            "tags": []
          }
        },
        {
          "output_type": "display_data",
          "data": {
            "image/png": "[encoded data removed]",
            "text/plain": [
              "<Figure size 432x288 with 1 Axes>"
            ]
          },
          "metadata": {
            "tags": [],
            "needs_background": "light"
          }
        }
      ]
    },
    {
      "cell_type": "code",
      "metadata": {
        "colab": {
          "base_uri": "https://localhost:8080/"
        },
        "id": "eeuh9o3ZQ_03",
        "outputId": "c6987e51-69c3-490a-8a8a-06f514facafb"
      },
      "source": [
        "data_path='data/OGLE_data/'\n",
        "star_folders=os.listdir(data_path)\n",
        "star_data_folders=[data_path+star_type+'/V/' for star_type in star_folders]\n",
        "star_data_folders"
      ],
      "execution_count": null,
      "outputs": [
        {
          "output_type": "execute_result",
          "data": {
            "text/plain": [
              "['data/OGLE_data/phot_acep/V/',\n",
              " 'data/OGLE_data/phot_t2cep/V/',\n",
              " 'data/OGLE_data/phot_ecl/V/',\n",
              " 'data/OGLE_data/phot_cep/V/',\n",
              " 'data/OGLE_data/phot_rrlyr/V/',\n",
              " 'data/OGLE_data/ecl.npy/V/',\n",
              " 'data/OGLE_data/t2cep.npy/V/',\n",
              " 'data/OGLE_data/acep.npy/V/',\n",
              " 'data/OGLE_data/cep.npy/V/',\n",
              " 'data/OGLE_data/rrlyr.npy/V/']"
            ]
          },
          "metadata": {
            "tags": []
          },
          "execution_count": 4
        }
      ]
    },
    {
      "cell_type": "code",
      "metadata": {
        "id": "D1NbeCvZdpmL"
      },
      "source": [
        "def subsample(serie,numbers,dist,mask_value):\n",
        "  '''Function to decompose a time serie into multiple randomly subsampled time series with number of points given by\n",
        "  numbers with distribution of number of points given by dist, the subsampled time series are padded with mask_value\n",
        "  the return is a numpy array of shape (n,max_number,channels) where n is the number of generated subsampled series,\n",
        "  max_number is the greatest value of numbers and channels is the features of the serie'''\n",
        "  max_steps=np.max(numbers)\n",
        "  l=len(serie)\n",
        "  if l<=max_steps:\n",
        "    arr=np.ones((1,max_steps,3))*mask_value\n",
        "    s=np.shape(serie)\n",
        "    arr[0,:s[0]]=serie\n",
        "    return arr\n",
        "  else:\n",
        "    n=np.random.choice(numbers,replace=False, p=dist)\n",
        "    sel=np.sort(np.random.choice(l,n,replace=False))\n",
        "    serie_trunc=serie[sel]\n",
        "    s=np.shape(serie_trunc)\n",
        "    arr=np.ones((1,max_steps,3))*mask_value\n",
        "    arr[0,:s[0]]=serie_trunc\n",
        "    bool_sel=np.ones(l).astype(bool)\n",
        "    bool_sel[sel]=False\n",
        "    serie=serie[bool_sel]\n",
        "    l=len(serie)\n",
        "    while l>=max_steps:\n",
        "      n=np.random.choice(numbers,replace=False, p=dist)\n",
        "      sel=np.sort(np.random.choice(l,n,replace=False))\n",
        "      serie_trunc=serie[sel]\n",
        "      s=np.shape(serie_trunc)\n",
        "      t=np.ones((1,max_steps,3))*mask_value\n",
        "      t[0,:s[0]]=serie_trunc\n",
        "      arr=np.concatenate((arr,t))\n",
        "      bool_sel=np.ones(l).astype(bool)\n",
        "      bool_sel[sel]=False\n",
        "      serie=serie[bool_sel]\n",
        "      l=len(serie) \n",
        "    if l>=np.min(numbers):\n",
        "      s=np.shape(serie)\n",
        "      t=np.ones((1,max_steps,3))*mask_value\n",
        "      t[0,:s[0]]=serie\n",
        "      arr=np.concatenate((arr,t))\n",
        "    return arr"
      ],
      "execution_count": null,
      "outputs": []
    },
    {
      "cell_type": "code",
      "metadata": {
        "colab": {
          "base_uri": "https://localhost:8080/",
          "height": 66,
          "referenced_widgets": [
            "0f906052cff24cb7b83ac1a637849555",
            "06977436656d418a9b685055b866fd64",
            "8d8800e6e0534c29892e2f1edafa0f4d",
            "68252ddb00964cb1925b39cebdfe59a1",
            "4ecf7da28297464da4b05c2b94a6e30b",
            "0905d8e47f7647228d7b6800e39f19fb",
            "f9d2e37e224a4127b6422afef5a305af",
            "d162aa1b04954b07837f4152eb3326e8"
          ]
        },
        "id": "TDNeeL2dpQdq",
        "outputId": "8f58cc67-47f6-4133-8a05-7c5d52828095"
      },
      "source": [
        "numbers=np.unique(ogle_train_data_lengths).astype(int)\n",
        "total=len(ogle_train_data_lengths)\n",
        "prob=[sum(ogle_train_data_lengths==n)/total for n in tqdm(numbers)]"
      ],
      "execution_count": null,
      "outputs": [
        {
          "output_type": "display_data",
          "data": {
            "application/vnd.jupyter.widget-view+json": {
              "model_id": "0f906052cff24cb7b83ac1a637849555",
              "version_minor": 0,
              "version_major": 2
            },
            "text/plain": [
              "HBox(children=(FloatProgress(value=0.0, max=13.0), HTML(value='')))"
            ]
          },
          "metadata": {
            "tags": []
          }
        },
        {
          "output_type": "stream",
          "text": [
            "\n"
          ],
          "name": "stdout"
        }
      ]
    },
    {
      "cell_type": "code",
      "metadata": {
        "colab": {
          "base_uri": "https://localhost:8080/"
        },
        "id": "4YDnJH-5A-7p",
        "outputId": "842e7e47-e403-4a9d-9f48-812e8249ccf2"
      },
      "source": [
        "acep_dir=os.listdir(star_data_folders[0])\n",
        "print(len(acep_dir))\n",
        "f=lambda star_name:np.genfromtxt(star_data_folders[0]+star_name,delimiter=\" \")\n",
        "\n",
        "start = timer()\n",
        "acep=[subsample(f(star_name),numbers,prob,-8) for star_name in tqdm(acep_dir)]\n",
        "end = timer()\n",
        "\n",
        "print(end - start)\n",
        "acep=np.concatenate(acep)\n",
        "np.shape(acep)"
      ],
      "execution_count": null,
      "outputs": [
        {
          "output_type": "stream",
          "text": [
            "136\n",
            "0.413419423999585\n"
          ],
          "name": "stdout"
        },
        {
          "output_type": "execute_result",
          "data": {
            "text/plain": [
              "(469, 32, 3)"
            ]
          },
          "metadata": {
            "tags": []
          },
          "execution_count": 297
        }
      ]
    },
    {
      "cell_type": "code",
      "metadata": {
        "id": "pujpmDj7ZeN7"
      },
      "source": [
        "np.save(data_path+'acep',ecl)"
      ],
      "execution_count": null,
      "outputs": []
    },
    {
      "cell_type": "code",
      "metadata": {
        "colab": {
          "base_uri": "https://localhost:8080/"
        },
        "id": "wszicHvT_i7_",
        "outputId": "d269abaf-46ef-4743-d136-6747c7637e1f"
      },
      "source": [
        "t2cep_dir=os.listdir(star_data_folders[1])\n",
        "print(len(t2cep_dir))\n",
        "f=lambda star_name:np.genfromtxt(star_data_folders[1]+star_name,delimiter=\" \")\n",
        "\n",
        "start = timer()\n",
        "t2cep=[subsample(f(star_name),numbers,prob,-8) for star_name in tqdm(t2cep_dir)]\n",
        "end = timer()\n",
        "\n",
        "print(end - start)\n",
        "t2cep=np.concatenate(t2cep)\n",
        "np.shape(t2cep)"
      ],
      "execution_count": null,
      "outputs": [
        {
          "output_type": "stream",
          "text": [
            "271\n",
            "0.8302774900002987\n"
          ],
          "name": "stdout"
        },
        {
          "output_type": "execute_result",
          "data": {
            "text/plain": [
              "(1272, 32, 3)"
            ]
          },
          "metadata": {
            "tags": []
          },
          "execution_count": 300
        }
      ]
    },
    {
      "cell_type": "code",
      "metadata": {
        "id": "5o7P55LnZY-D"
      },
      "source": [
        "np.save(data_path+'t2cep',ecl)"
      ],
      "execution_count": null,
      "outputs": []
    },
    {
      "cell_type": "code",
      "metadata": {
        "colab": {
          "base_uri": "https://localhost:8080/"
        },
        "id": "HGNS-WWcGslg",
        "outputId": "fdca8ac9-07d8-45d0-8da7-9b896c1f43e7"
      },
      "source": [
        "ecl_dir=os.listdir(star_data_folders[2])\n",
        "print(len(ecl_dir))\n",
        "f=lambda star_name:np.genfromtxt(star_data_folders[2]+star_name,delimiter=\" \")\n",
        "\n",
        "start = timer()\n",
        "ecl=[subsample(f(star_name),numbers,prob,-8) for star_name in tqdm(ecl_dir)]\n",
        "end = timer()\n",
        "\n",
        "print(end - start)\n",
        "ecl=np.concatenate(ecl)\n",
        "np.shape(ecl)"
      ],
      "execution_count": null,
      "outputs": [
        {
          "output_type": "stream",
          "text": [
            "15360\n",
            "4254.401526996999\n"
          ],
          "name": "stdout"
        },
        {
          "output_type": "execute_result",
          "data": {
            "text/plain": [
              "(78290, 32, 3)"
            ]
          },
          "metadata": {
            "tags": []
          },
          "execution_count": 305
        }
      ]
    },
    {
      "cell_type": "code",
      "metadata": {
        "id": "CcYWVyZXY_TU"
      },
      "source": [
        "np.save(data_path+'ecl',ecl)"
      ],
      "execution_count": null,
      "outputs": []
    },
    {
      "cell_type": "code",
      "metadata": {
        "colab": {
          "base_uri": "https://localhost:8080/",
          "height": 118,
          "referenced_widgets": [
            "8b7efd9e434548869cefdb51ab3ed1ff",
            "13fb3417eefa43c6922bc799bebd0121",
            "713cd82d06d54c2aa021771c7bce9cd7",
            "79ba972b333f422a9c9d12d8110cd26f",
            "6d0846c675fa43d3b43e386402004a9e",
            "c78c68a3857e4d03bf9564fdad6a9e92",
            "4283b507f9d24a9aaf40519531e50cba",
            "f0453f9d6c964fac8b1b96c1d9041d12"
          ]
        },
        "id": "8P76NCaxH1yC",
        "outputId": "26f61259-992a-46f6-8314-a3f93cccd749"
      },
      "source": [
        "cep_dir=os.listdir(star_data_folders[3])\n",
        "print(len(cep_dir))\n",
        "f=lambda star_name:np.genfromtxt(star_data_folders[3]+star_name,delimiter=\" \")\n",
        "\n",
        "start = timer()\n",
        "cep=[subsample(f(star_name),numbers,prob,-8) for star_name in tqdm(cep_dir)]\n",
        "end = timer()\n",
        "\n",
        "print(end - start)\n",
        "cep=np.concatenate(cep)\n",
        "np.shape(cep)"
      ],
      "execution_count": null,
      "outputs": [
        {
          "output_type": "stream",
          "text": [
            "4368\n"
          ],
          "name": "stdout"
        },
        {
          "output_type": "display_data",
          "data": {
            "application/vnd.jupyter.widget-view+json": {
              "model_id": "8b7efd9e434548869cefdb51ab3ed1ff",
              "version_minor": 0,
              "version_major": 2
            },
            "text/plain": [
              "HBox(children=(FloatProgress(value=0.0, max=4368.0), HTML(value='')))"
            ]
          },
          "metadata": {
            "tags": []
          }
        },
        {
          "output_type": "stream",
          "text": [
            "\n",
            "1319.529572329\n"
          ],
          "name": "stdout"
        },
        {
          "output_type": "execute_result",
          "data": {
            "text/plain": [
              "(20270, 32, 3)"
            ]
          },
          "metadata": {
            "tags": []
          },
          "execution_count": 315
        }
      ]
    },
    {
      "cell_type": "code",
      "metadata": {
        "id": "5az_uIjMfh8S"
      },
      "source": [
        "np.save(data_path+'cep',cep)"
      ],
      "execution_count": null,
      "outputs": []
    },
    {
      "cell_type": "code",
      "metadata": {
        "colab": {
          "base_uri": "https://localhost:8080/"
        },
        "id": "fgJu8zTFfmsP",
        "outputId": "09a400a2-b129-4ea3-e6fd-cdc3ca6e15a6"
      },
      "source": [
        "rrlyr_dir=os.listdir(star_data_folders[4])\n",
        "print(len(rrlyr_dir))\n",
        "f=lambda star_name:np.genfromtxt(star_data_folders[4]+star_name,delimiter=\" \")\n",
        "\n",
        "start = timer()\n",
        "rrlyr=[subsample(f(star_name),numbers,prob,-8) for star_name in tqdm(rrlyr_dir)]\n",
        "end = timer()\n",
        "\n",
        "print(end - start)\n",
        "rrlyr=np.concatenate(rrlyr)\n",
        "np.shape(rrlyr)"
      ],
      "execution_count": null,
      "outputs": [
        {
          "output_type": "execute_result",
          "data": {
            "text/plain": [
              "38354"
            ]
          },
          "metadata": {
            "tags": []
          },
          "execution_count": 321
        }
      ]
    },
    {
      "cell_type": "code",
      "metadata": {
        "id": "h36nU0G-ju7G"
      },
      "source": [
        "def f(star_name):\n",
        "  return subsample(np.genfromtxt(star_data_folders[4]+star_name,delimiter=\" \"),numbers,prob,-8)"
      ],
      "execution_count": null,
      "outputs": []
    },
    {
      "cell_type": "code",
      "metadata": {
        "colab": {
          "base_uri": "https://localhost:8080/"
        },
        "id": "iHkDsV2Tftkm",
        "outputId": "f4c9eccc-7d4e-43f8-99a0-5b9cdb4b82ce"
      },
      "source": [
        "num_workers = mp.cpu_count()  \n",
        "pool = mp.Pool(num_workers)\n",
        "\n",
        "#rrlyr_dir=os.listdir(star_data_folders[4])\n",
        "\n",
        "start = timer()\n",
        "rrlyr=pool.map(f, rrlyr_dir)\n",
        "end = timer()\n",
        "pool.close()\n",
        "pool.join()\n",
        "\n",
        "\n",
        "print(end - start)\n",
        "rrlyr=np.concatenate(rrlyr)\n",
        "np.shape(rrlyr)"
      ],
      "execution_count": null,
      "outputs": [
        {
          "output_type": "stream",
          "text": [
            "4062.4453952409995\n"
          ],
          "name": "stdout"
        },
        {
          "output_type": "execute_result",
          "data": {
            "text/plain": [
              "(138193, 32, 3)"
            ]
          },
          "metadata": {
            "tags": []
          },
          "execution_count": 18
        }
      ]
    },
    {
      "cell_type": "code",
      "metadata": {
        "id": "VEH-98YrkTjM"
      },
      "source": [
        "np.save(data_path+'rrlyr',rrlyr)"
      ],
      "execution_count": null,
      "outputs": []
    },
    {
      "cell_type": "code",
      "metadata": {
        "id": "Ugq7Cw4Rrkta"
      },
      "source": [
        "def f(star_name):\n",
        "  return subsample(np.genfromtxt(star_data_folders[3]+star_name,delimiter=\" \"),numbers,prob,-8)"
      ],
      "execution_count": null,
      "outputs": []
    },
    {
      "cell_type": "code",
      "metadata": {
        "colab": {
          "base_uri": "https://localhost:8080/"
        },
        "id": "tRwiEe6U6nkw",
        "outputId": "3c15a98d-1cfb-4954-c477-4489d14deb18"
      },
      "source": [
        "cep_dir=os.listdir(star_data_folders[3])\n",
        "print(len(cep_dir))"
      ],
      "execution_count": null,
      "outputs": [
        {
          "output_type": "stream",
          "text": [
            "4368\n"
          ],
          "name": "stdout"
        }
      ]
    },
    {
      "cell_type": "code",
      "metadata": {
        "id": "q_ZXFZH9rYw1",
        "colab": {
          "base_uri": "https://localhost:8080/",
          "height": 83,
          "referenced_widgets": [
            "f9d5d8f6ba2c49df8064f4fece852af6",
            "1f7ab789fd3b48cf93afd56b236cd971",
            "3067932a3aab46f1aac80b7cdb3e5dd5",
            "7dcfd8230e66406b89945c85d2229253",
            "117e0778040e4bf18adbabfef77d1961",
            "1d25e276c20147be9ac0017113c78de4",
            "90a9e85520fb4cb4978a272374ce86e2",
            "67710a9c08084e1f8df0b74b913eb77c"
          ]
        },
        "outputId": "174206db-a912-4e32-ca68-d4d937992eb6"
      },
      "source": [
        "start = timer()\n",
        "cep=[f(star_name) for star_name in tqdm(cep_dir)]\n",
        "end = timer()\n",
        "print('List comprenhension',end - start)"
      ],
      "execution_count": null,
      "outputs": [
        {
          "output_type": "display_data",
          "data": {
            "application/vnd.jupyter.widget-view+json": {
              "model_id": "f9d5d8f6ba2c49df8064f4fece852af6",
              "version_minor": 0,
              "version_major": 2
            },
            "text/plain": [
              "HBox(children=(FloatProgress(value=0.0, max=4368.0), HTML(value='')))"
            ]
          },
          "metadata": {
            "tags": []
          }
        },
        {
          "output_type": "stream",
          "text": [
            "\n",
            "List comprenhension 1423.0455405030007\n"
          ],
          "name": "stdout"
        }
      ]
    },
    {
      "cell_type": "code",
      "metadata": {
        "id": "dmydNJPouQpn"
      },
      "source": [
        "if __name__ == '__main__':\n",
        "   with Pool(2) as p:\n",
        "      r = list(tqdm.tqdm(p.imap(_foo, range(30)), total=30))"
      ],
      "execution_count": null,
      "outputs": []
    },
    {
      "cell_type": "code",
      "metadata": {
        "id": "NUyqabU3vrjl"
      },
      "source": [
        "num_workers = mp.cpu_count()  \n",
        "pool = mp.Pool(num_workers+4)"
      ],
      "execution_count": null,
      "outputs": []
    },
    {
      "cell_type": "code",
      "metadata": {
        "colab": {
          "base_uri": "https://localhost:8080/"
        },
        "id": "AdnAFlDAvos6",
        "outputId": "6b99093c-e83f-4aa0-deec-10c5f10fe6bf"
      },
      "source": [
        "start = timer()\n",
        "cep=pool.map(f, cep_dir)\n",
        "end = timer()\n",
        "print('Paralel with ' + str(num_workers) +' workers',end - start)"
      ],
      "execution_count": null,
      "outputs": [
        {
          "output_type": "stream",
          "text": [
            "Paralel with 2 workers 9.607745625999996\n"
          ],
          "name": "stdout"
        }
      ]
    },
    {
      "cell_type": "code",
      "metadata": {
        "id": "PGs7N8c_-KYh"
      },
      "source": [
        "pool.close()\n",
        "pool.join()"
      ],
      "execution_count": null,
      "outputs": []
    },
    {
      "cell_type": "code",
      "metadata": {
        "id": "ZdMtRYqmIx8W"
      },
      "source": [
        ""
      ],
      "execution_count": null,
      "outputs": []
    }
  ]
}